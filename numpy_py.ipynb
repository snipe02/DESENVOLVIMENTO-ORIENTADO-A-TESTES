{
  "nbformat": 4,
  "nbformat_minor": 0,
  "metadata": {
    "colab": {
      "provenance": [],
      "authorship_tag": "ABX9TyN4SAVMmUPme3bEJuOB9vvH",
      "include_colab_link": true
    },
    "kernelspec": {
      "name": "python3",
      "display_name": "Python 3"
    },
    "language_info": {
      "name": "python"
    }
  },
  "cells": [
    {
      "cell_type": "markdown",
      "metadata": {
        "id": "view-in-github",
        "colab_type": "text"
      },
      "source": [
        "<a href=\"https://colab.research.google.com/github/snipe02/DESENVOLVIMENTO-ORIENTADO-A-TESTES/blob/main/numpy_py.ipynb\" target=\"_parent\"><img src=\"https://colab.research.google.com/assets/colab-badge.svg\" alt=\"Open In Colab\"/></a>"
      ]
    },
    {
      "cell_type": "code",
      "execution_count": 22,
      "metadata": {
        "colab": {
          "base_uri": "https://localhost:8080/"
        },
        "id": "kuD46PIsyZp8",
        "outputId": "765a59b5-8e89-45e9-e9a3-60b7feac288f"
      },
      "outputs": [
        {
          "output_type": "stream",
          "name": "stdout",
          "text": [
            "(12, 3)\n",
            "2020\n",
            "17000\n",
            "[[ 2021     1 12000]\n",
            " [ 2021     2 15000]\n",
            " [ 2021     3 17000]\n",
            " [ 2021     4 20000]]\n",
            "8666.666666666666\n",
            "141000\n"
          ]
        }
      ],
      "source": [
        "import numpy as np\n",
        "\n",
        "\n",
        "#DATASET SIMPLES QUE SIMULA A QUANTIDADE DE VENDAS DE AUTOMÓVEIS EM CADA TRIMESTRE DURANTE TRÊS ANO(DE 2019 A 2021)\n",
        "dados = np.array([[2019, 1, 5000],\n",
        "                  [2019, 2, 7000],\n",
        "                  [2019, 3, 8000],\n",
        "                  [2019, 4, 10000],\n",
        "                  [2020, 1, 9000],\n",
        "                  [2020, 2, 11000],\n",
        "                  [2020, 3, 12000],\n",
        "                  [2020, 4, 15000],\n",
        "                  [2021, 1, 12000],\n",
        "                  [2021, 2, 15000],\n",
        "                  [2021, 3, 17000],\n",
        "                  [2021, 4, 20000]])\n",
        "\n",
        "print(dados.shape)   #FORMA DO CONJUNTO DE DADOS(mostra quantidade de linhas e colunas)\n",
        "\n",
        "print(dados[4, 0])   #ACESSANDO POR INDEXAÇÃO O ANO DE 2020 DO 1º TRIMESTRE.\n",
        "\n",
        "print(dados[10, 2])  #ACESSANDO POR INDEXAÇÃO O VALOR DE VENDAS FEITO NO 3º TRIMESTRE DO ANO DE 2021.\n",
        "\n",
        "dados2020 = dados[dados[:, 0] == 2021]  #FATIAMOS AQUI TODOS OS DADOS REFERENTES AO ANO DE 2021. (ano, trimestre e total de vendas.)\n",
        "\n",
        "print(dados2020)\n",
        "\n",
        "\n",
        "trimestre1 = dados[:, 2][dados[:, 1] == 1] # AQUI BUSQUEI O TOTAL DE VENDAS, MAS APENAS DO 1º SEMESTRE DE CADA ANO.\n",
        "media_trimestre1 = np.mean(trimestre1) #AQUI EU USO UMA FUNÇÃO ESTÁTISTICA PARA ME RETORNAR A MÉDIA VENDIDA NO 1ºSEMESTRE DE CADA ANO.\n",
        "print(media_trimestre1) \n",
        "\n",
        "total_vendas = dados[:, 2]\n",
        "soma_vendas = np.sum(total_vendas)\n",
        "print(soma_vendas)\n",
        "\n",
        "\n",
        "\n",
        "\n",
        "\n",
        "\n",
        "\n",
        "\n",
        "\n",
        "\n",
        "\n"
      ]
    }
  ]
}